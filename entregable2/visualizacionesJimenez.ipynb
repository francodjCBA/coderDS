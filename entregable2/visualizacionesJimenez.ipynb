{
 "cells": [
  {
   "cell_type": "code",
   "execution_count": null,
   "metadata": {},
   "outputs": [],
   "source": [
    "import pandas as pd\n"
   ]
  },
  {
   "cell_type": "code",
   "execution_count": null,
   "metadata": {},
   "outputs": [],
   "source": [
    "# dnrpa-inscripciones-iniciales-autos-202201.csv\n",
    "urlDatasetUno= \"https://drive.google.com/uc?id=14Q5P8gJ6iDd6o779HVofh7GxrhJjda-b\"\n",
    "df = pd.read_csv(urlDatasetUno, sep=\";\", encoding='iso-8859-1')"
   ]
  },
  {
   "attachments": {},
   "cell_type": "markdown",
   "metadata": {},
   "source": [
    "Escoger uno de los 3 datasets utilizados para la Clase 5\n",
    "Cargar el dataset con la librería pandas por medio de la función pd.read_csv() o pd.read_excel()\n",
    "Realizar al menos tres gráficos (lineplot, scatterplot, histogramas, barchart, boxplot) usando la librería Matplotlib\n",
    "Realizar al menos tres gráficos (lineplot, scatterplot, histogramas, barchart, boxplot) usando la librería Seaborn\n",
    "Interpretar los resultados de cada gráfica obtenida\n"
   ]
  },
  {
   "cell_type": "code",
   "execution_count": null,
   "metadata": {},
   "outputs": [],
   "source": []
  }
 ],
 "metadata": {
  "language_info": {
   "name": "python"
  },
  "orig_nbformat": 4
 },
 "nbformat": 4,
 "nbformat_minor": 2
}
